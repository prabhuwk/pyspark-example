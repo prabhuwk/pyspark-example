from pyspark.sql import SparkSession
spark = SparkSession.builder.getOrCreate()
data = [(1, "Prabhu"),(2, "Avinash"), (3, "Jagadeesh")]
schema = ["id", "name"]
df = spark.createDataFrame(data=data,schema=schema)
df.show()
